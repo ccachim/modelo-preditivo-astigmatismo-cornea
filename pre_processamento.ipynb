{
 "cells": [
  {
   "cell_type": "code",
   "execution_count": 1,
   "metadata": {},
   "outputs": [],
   "source": [
    "import pandas as pd\n",
    "import numpy as np\n",
    "from pathlib import Path"
   ]
  },
  {
   "cell_type": "code",
   "execution_count": 2,
   "metadata": {},
   "outputs": [],
   "source": [
    "def converter(array):\n",
    "    output = np.zeros_like(array)\n",
    "    output[:, 0] = array[:, 1] * np.cos(np.radians(array[:, 0])) #real\n",
    "    output[:, 1] = array[:, 1] * np.sin(np.radians(array[:, 0])) #im\n",
    "    return output"
   ]
  },
  {
   "cell_type": "code",
   "execution_count": 3,
   "metadata": {},
   "outputs": [],
   "source": [
    "path = Path(Path.cwd())\n",
    "\n",
    "xls = pd.read_excel('Hospital_da_Luz_Base_de_dados_Lenstar_Cassini.xls', sheet_name=None)\n",
    "cassini = xls['Cassini_full']\n",
    "lenstar = xls['Lenstar']\n",
    "\n",
    "#Tratamento de dados Cassini\n",
    "\"\"\" \n",
    "    Remover Quality Factor Posterior Value inferior a 80\n",
    "    Remover olhos repetidos (NHC e olho igual), mantendo o de maior QFPV\n",
    "    Remover Pseudophakic\n",
    "    Criar coluna com regra de acordo com axis\n",
    "\"\"\"\n",
    "\n",
    "filtered_cassini = cassini[cassini['Quality_Factor_Posterior_Value'] >= 80]\n",
    "filtered_cassini = filtered_cassini.sort_values(by=['Quality_Factor_Posterior_Value'], ascending=[True])\n",
    "filtered_cassini = filtered_cassini.drop_duplicates(subset=['NHC', 'C_Eye'], keep='last')\n",
    "filtered_cassini = filtered_cassini.sort_values(by=['id'], ascending=[True])\n",
    "filtered_cassini = filtered_cassini[filtered_cassini['C_Mode'] != 'Pseudophakic']\n",
    "\n",
    "def categorize_value(x):\n",
    "    if x <= 30 or x >= 150 :\n",
    "        return 'ATR'\n",
    "    elif x >= 60 and x <= 120:\n",
    "        return 'WTR'\n",
    "    else:\n",
    "        return 'OBL'\n",
    "    \n",
    "filtered_cassini['C_TCA_Axis_360'] = filtered_cassini['C_TCA_Axis']*2\n",
    "filtered_cassini['C_Ant_Axis_360'] = filtered_cassini['C_Ant_Axis']*2\n",
    "filtered_cassini['C_Post_Axis_360'] = filtered_cassini['C_Post_Axis']*2\n",
    "\n",
    "filtered_cassini['category_TCA'] = filtered_cassini['C_TCA_Axis'].apply(categorize_value)\n",
    "filtered_cassini['category_Ant'] = filtered_cassini['C_Ant_Axis'].apply(categorize_value)\n",
    "filtered_cassini['category_Post'] = filtered_cassini['C_Post_Axis'].apply(categorize_value)\n",
    "\n",
    "filtered_cassini['C_TCA_parte_real'] = converter(np.column_stack((filtered_cassini['C_TCA_Axis_360'], filtered_cassini['C_TCA_Ast'])))[:,0]\n",
    "filtered_cassini['C_TCA_parte_imaginaria'] = converter(np.column_stack((filtered_cassini['C_TCA_Axis_360'], filtered_cassini['C_TCA_Ast'])))[:,1]\n",
    "filtered_cassini['C_Ant_parte_real'] = converter(np.column_stack((filtered_cassini['C_Ant_Axis_360'], filtered_cassini['C_Ant_Ast'])))[:,0]\n",
    "filtered_cassini['C_Ant_parte_imaginaria'] = converter(np.column_stack((filtered_cassini['C_Ant_Axis_360'], filtered_cassini['C_Ant_Ast'])))[:,1]\n",
    "filtered_cassini['C_Post_parte_real'] = converter(np.column_stack((filtered_cassini['C_Post_Axis_360'], filtered_cassini['C_Post_Ast'])))[:,0]\n",
    "filtered_cassini['C_Post_parte_imaginaria'] = converter(np.column_stack((filtered_cassini['C_Post_Axis_360'], filtered_cassini['C_Post_Ast'])))[:,1]\n",
    "\n",
    "geral_df = filtered_cassini\n",
    "geral_df.to_excel( path / 'ficheiros' / 'cassini_geral.xlsx')\n",
    "\n",
    "atr_df = geral_df[geral_df['category_Ant'] == 'ATR']\n",
    "atr_df.to_excel( path / 'ficheiros' / 'cassini_atr.xlsx')\n",
    "\n",
    "wtr_df = geral_df[geral_df['category_Ant'] == 'WTR']\n",
    "wtr_df.to_excel( path / 'ficheiros' / 'cassini_wtr.xlsx')\n",
    "\n",
    "obl_df = geral_df[geral_df['category_Ant'] == 'OBL']\n",
    "obl_df.to_excel( path / 'ficheiros' / 'cassini_obl.xlsx')"
   ]
  },
  {
   "cell_type": "code",
   "execution_count": 4,
   "metadata": {},
   "outputs": [],
   "source": [
    "# #Tratamento de dados Lenstar\n",
    "\n",
    "# \"\"\" \n",
    "#     Remover olhos repetidos (NHC e olho igual), escolha arbitrária\n",
    "#     Remover Pseudophakic e Aphakic\n",
    "# \"\"\"\n",
    "\n",
    "# filtered_lenstar = lenstar[lenstar['L_Mode'] != 'Pseudophakic']\n",
    "# filtered_lenstar = filtered_lenstar[filtered_lenstar['L_Mode'] != 'Aphakic']\n",
    "# filtered_lenstar = filtered_lenstar.drop_duplicates(subset=['NHC', 'L_Eye'], keep='last')\n",
    "\n",
    "# filtered_lenstar.to_excel('/Users/constancacachim/Desktop/golp_dados/ficheiros/filtered_lenstar.xlsx', index=False, sheet_name='lenstar')\n",
    "\n",
    "# \"\"\"\n",
    "#     Merge cassini e lenstar com base em NHC\n",
    "# \"\"\"\n",
    "# cassini_lenstar = pd.merge(filtered_lenstar,filtered_cassini, on='NHC', how='outer')\n",
    "# cassini_lenstar.to_excel('/Users/constancacachim/Desktop/golp_dados/ficheiros/filtered_cassini_lenstar.xlsx', index=False, sheet_name='merge')"
   ]
  }
 ],
 "metadata": {
  "kernelspec": {
   "display_name": "Python 3",
   "language": "python",
   "name": "python3"
  },
  "language_info": {
   "codemirror_mode": {
    "name": "ipython",
    "version": 3
   },
   "file_extension": ".py",
   "mimetype": "text/x-python",
   "name": "python",
   "nbconvert_exporter": "python",
   "pygments_lexer": "ipython3",
   "version": "3.11.4"
  }
 },
 "nbformat": 4,
 "nbformat_minor": 2
}
