{
 "cells": [
  {
   "cell_type": "code",
   "execution_count": 1,
   "metadata": {},
   "outputs": [],
   "source": [
    "import pandas as pd\n",
    "import numpy as np\n",
    "from pathlib import Path"
   ]
  },
  {
   "cell_type": "code",
   "execution_count": 2,
   "metadata": {},
   "outputs": [],
   "source": [
    "def converter(array):\n",
    "    output = np.zeros_like(array)\n",
    "    output[:, 0] = array[:, 1] * np.cos(np.radians(array[:, 0])) #real\n",
    "    output[:, 1] = array[:, 1] * np.sin(np.radians(array[:, 0])) #im\n",
    "    return output"
   ]
  },
  {
   "cell_type": "code",
   "execution_count": 4,
   "metadata": {},
   "outputs": [
    {
     "ename": "TimeoutError",
     "evalue": "[Errno 60] Operation timed out: '/Users/constancacachim/Library/CloudStorage/OneDrive-UniversidadedeLisboa/IST/GOLP/codigo/ficheiros/cassini_geral.xlsx'",
     "output_type": "error",
     "traceback": [
      "\u001b[0;31m---------------------------------------------------------------------------\u001b[0m",
      "\u001b[0;31mTimeoutError\u001b[0m                              Traceback (most recent call last)",
      "Cell \u001b[0;32mIn[4], line 45\u001b[0m\n\u001b[1;32m     42\u001b[0m filtered_cassini[\u001b[38;5;124m'\u001b[39m\u001b[38;5;124mC_Post_parte_imaginaria\u001b[39m\u001b[38;5;124m'\u001b[39m] \u001b[38;5;241m=\u001b[39m converter(np\u001b[38;5;241m.\u001b[39mcolumn_stack((filtered_cassini[\u001b[38;5;124m'\u001b[39m\u001b[38;5;124mC_Post_Axis_360\u001b[39m\u001b[38;5;124m'\u001b[39m], filtered_cassini[\u001b[38;5;124m'\u001b[39m\u001b[38;5;124mC_Post_Ast\u001b[39m\u001b[38;5;124m'\u001b[39m])))[:,\u001b[38;5;241m1\u001b[39m]\n\u001b[1;32m     44\u001b[0m geral_df \u001b[38;5;241m=\u001b[39m filtered_cassini\n\u001b[0;32m---> 45\u001b[0m geral_df\u001b[38;5;241m.\u001b[39mto_excel( path \u001b[38;5;241m/\u001b[39m \u001b[38;5;124m'\u001b[39m\u001b[38;5;124mficheiros\u001b[39m\u001b[38;5;124m'\u001b[39m \u001b[38;5;241m/\u001b[39m \u001b[38;5;124m'\u001b[39m\u001b[38;5;124mcassini_geral.xlsx\u001b[39m\u001b[38;5;124m'\u001b[39m)\n\u001b[1;32m     47\u001b[0m atr_df \u001b[38;5;241m=\u001b[39m geral_df[geral_df[\u001b[38;5;124m'\u001b[39m\u001b[38;5;124mcategory_Ant\u001b[39m\u001b[38;5;124m'\u001b[39m] \u001b[38;5;241m==\u001b[39m \u001b[38;5;124m'\u001b[39m\u001b[38;5;124mATR\u001b[39m\u001b[38;5;124m'\u001b[39m]\n\u001b[1;32m     48\u001b[0m atr_df\u001b[38;5;241m.\u001b[39mto_excel( path \u001b[38;5;241m/\u001b[39m \u001b[38;5;124m'\u001b[39m\u001b[38;5;124mficheiros\u001b[39m\u001b[38;5;124m'\u001b[39m \u001b[38;5;241m/\u001b[39m \u001b[38;5;124m'\u001b[39m\u001b[38;5;124mcassini_atr.xlsx\u001b[39m\u001b[38;5;124m'\u001b[39m)\n",
      "File \u001b[0;32m~/anaconda3/lib/python3.11/site-packages/pandas/util/_decorators.py:211\u001b[0m, in \u001b[0;36mdeprecate_kwarg.<locals>._deprecate_kwarg.<locals>.wrapper\u001b[0;34m(*args, **kwargs)\u001b[0m\n\u001b[1;32m    209\u001b[0m     \u001b[38;5;28;01melse\u001b[39;00m:\n\u001b[1;32m    210\u001b[0m         kwargs[new_arg_name] \u001b[38;5;241m=\u001b[39m new_arg_value\n\u001b[0;32m--> 211\u001b[0m \u001b[38;5;28;01mreturn\u001b[39;00m func(\u001b[38;5;241m*\u001b[39margs, \u001b[38;5;241m*\u001b[39m\u001b[38;5;241m*\u001b[39mkwargs)\n",
      "File \u001b[0;32m~/anaconda3/lib/python3.11/site-packages/pandas/util/_decorators.py:211\u001b[0m, in \u001b[0;36mdeprecate_kwarg.<locals>._deprecate_kwarg.<locals>.wrapper\u001b[0;34m(*args, **kwargs)\u001b[0m\n\u001b[1;32m    209\u001b[0m     \u001b[38;5;28;01melse\u001b[39;00m:\n\u001b[1;32m    210\u001b[0m         kwargs[new_arg_name] \u001b[38;5;241m=\u001b[39m new_arg_value\n\u001b[0;32m--> 211\u001b[0m \u001b[38;5;28;01mreturn\u001b[39;00m func(\u001b[38;5;241m*\u001b[39margs, \u001b[38;5;241m*\u001b[39m\u001b[38;5;241m*\u001b[39mkwargs)\n",
      "File \u001b[0;32m~/anaconda3/lib/python3.11/site-packages/pandas/core/generic.py:2374\u001b[0m, in \u001b[0;36mNDFrame.to_excel\u001b[0;34m(self, excel_writer, sheet_name, na_rep, float_format, columns, header, index, index_label, startrow, startcol, engine, merge_cells, encoding, inf_rep, verbose, freeze_panes, storage_options)\u001b[0m\n\u001b[1;32m   2361\u001b[0m \u001b[38;5;28;01mfrom\u001b[39;00m \u001b[38;5;21;01mpandas\u001b[39;00m\u001b[38;5;21;01m.\u001b[39;00m\u001b[38;5;21;01mio\u001b[39;00m\u001b[38;5;21;01m.\u001b[39;00m\u001b[38;5;21;01mformats\u001b[39;00m\u001b[38;5;21;01m.\u001b[39;00m\u001b[38;5;21;01mexcel\u001b[39;00m \u001b[38;5;28;01mimport\u001b[39;00m ExcelFormatter\n\u001b[1;32m   2363\u001b[0m formatter \u001b[38;5;241m=\u001b[39m ExcelFormatter(\n\u001b[1;32m   2364\u001b[0m     df,\n\u001b[1;32m   2365\u001b[0m     na_rep\u001b[38;5;241m=\u001b[39mna_rep,\n\u001b[0;32m   (...)\u001b[0m\n\u001b[1;32m   2372\u001b[0m     inf_rep\u001b[38;5;241m=\u001b[39minf_rep,\n\u001b[1;32m   2373\u001b[0m )\n\u001b[0;32m-> 2374\u001b[0m formatter\u001b[38;5;241m.\u001b[39mwrite(\n\u001b[1;32m   2375\u001b[0m     excel_writer,\n\u001b[1;32m   2376\u001b[0m     sheet_name\u001b[38;5;241m=\u001b[39msheet_name,\n\u001b[1;32m   2377\u001b[0m     startrow\u001b[38;5;241m=\u001b[39mstartrow,\n\u001b[1;32m   2378\u001b[0m     startcol\u001b[38;5;241m=\u001b[39mstartcol,\n\u001b[1;32m   2379\u001b[0m     freeze_panes\u001b[38;5;241m=\u001b[39mfreeze_panes,\n\u001b[1;32m   2380\u001b[0m     engine\u001b[38;5;241m=\u001b[39mengine,\n\u001b[1;32m   2381\u001b[0m     storage_options\u001b[38;5;241m=\u001b[39mstorage_options,\n\u001b[1;32m   2382\u001b[0m )\n",
      "File \u001b[0;32m~/anaconda3/lib/python3.11/site-packages/pandas/io/formats/excel.py:944\u001b[0m, in \u001b[0;36mExcelFormatter.write\u001b[0;34m(self, writer, sheet_name, startrow, startcol, freeze_panes, engine, storage_options)\u001b[0m\n\u001b[1;32m    940\u001b[0m     need_save \u001b[38;5;241m=\u001b[39m \u001b[38;5;28;01mFalse\u001b[39;00m\n\u001b[1;32m    941\u001b[0m \u001b[38;5;28;01melse\u001b[39;00m:\n\u001b[1;32m    942\u001b[0m     \u001b[38;5;66;03m# error: Cannot instantiate abstract class 'ExcelWriter' with abstract\u001b[39;00m\n\u001b[1;32m    943\u001b[0m     \u001b[38;5;66;03m# attributes 'engine', 'save', 'supported_extensions' and 'write_cells'\u001b[39;00m\n\u001b[0;32m--> 944\u001b[0m     writer \u001b[38;5;241m=\u001b[39m ExcelWriter(  \u001b[38;5;66;03m# type: ignore[abstract]\u001b[39;00m\n\u001b[1;32m    945\u001b[0m         writer, engine\u001b[38;5;241m=\u001b[39mengine, storage_options\u001b[38;5;241m=\u001b[39mstorage_options\n\u001b[1;32m    946\u001b[0m     )\n\u001b[1;32m    947\u001b[0m     need_save \u001b[38;5;241m=\u001b[39m \u001b[38;5;28;01mTrue\u001b[39;00m\n\u001b[1;32m    949\u001b[0m \u001b[38;5;28;01mtry\u001b[39;00m:\n",
      "File \u001b[0;32m~/anaconda3/lib/python3.11/site-packages/pandas/io/excel/_openpyxl.py:60\u001b[0m, in \u001b[0;36mOpenpyxlWriter.__init__\u001b[0;34m(self, path, engine, date_format, datetime_format, mode, storage_options, if_sheet_exists, engine_kwargs, **kwargs)\u001b[0m\n\u001b[1;32m     56\u001b[0m \u001b[38;5;28;01mfrom\u001b[39;00m \u001b[38;5;21;01mopenpyxl\u001b[39;00m\u001b[38;5;21;01m.\u001b[39;00m\u001b[38;5;21;01mworkbook\u001b[39;00m \u001b[38;5;28;01mimport\u001b[39;00m Workbook\n\u001b[1;32m     58\u001b[0m engine_kwargs \u001b[38;5;241m=\u001b[39m combine_kwargs(engine_kwargs, kwargs)\n\u001b[0;32m---> 60\u001b[0m \u001b[38;5;28msuper\u001b[39m()\u001b[38;5;241m.\u001b[39m\u001b[38;5;21m__init__\u001b[39m(\n\u001b[1;32m     61\u001b[0m     path,\n\u001b[1;32m     62\u001b[0m     mode\u001b[38;5;241m=\u001b[39mmode,\n\u001b[1;32m     63\u001b[0m     storage_options\u001b[38;5;241m=\u001b[39mstorage_options,\n\u001b[1;32m     64\u001b[0m     if_sheet_exists\u001b[38;5;241m=\u001b[39mif_sheet_exists,\n\u001b[1;32m     65\u001b[0m     engine_kwargs\u001b[38;5;241m=\u001b[39mengine_kwargs,\n\u001b[1;32m     66\u001b[0m )\n\u001b[1;32m     68\u001b[0m \u001b[38;5;66;03m# ExcelWriter replaced \"a\" by \"r+\" to allow us to first read the excel file from\u001b[39;00m\n\u001b[1;32m     69\u001b[0m \u001b[38;5;66;03m# the file and later write to it\u001b[39;00m\n\u001b[1;32m     70\u001b[0m \u001b[38;5;28;01mif\u001b[39;00m \u001b[38;5;124m\"\u001b[39m\u001b[38;5;124mr+\u001b[39m\u001b[38;5;124m\"\u001b[39m \u001b[38;5;129;01min\u001b[39;00m \u001b[38;5;28mself\u001b[39m\u001b[38;5;241m.\u001b[39m_mode:  \u001b[38;5;66;03m# Load from existing workbook\u001b[39;00m\n",
      "File \u001b[0;32m~/anaconda3/lib/python3.11/site-packages/pandas/io/excel/_base.py:1313\u001b[0m, in \u001b[0;36mExcelWriter.__init__\u001b[0;34m(self, path, engine, date_format, datetime_format, mode, storage_options, if_sheet_exists, engine_kwargs, **kwargs)\u001b[0m\n\u001b[1;32m   1309\u001b[0m \u001b[38;5;28mself\u001b[39m\u001b[38;5;241m.\u001b[39m_handles \u001b[38;5;241m=\u001b[39m IOHandles(\n\u001b[1;32m   1310\u001b[0m     cast(IO[\u001b[38;5;28mbytes\u001b[39m], path), compression\u001b[38;5;241m=\u001b[39m{\u001b[38;5;124m\"\u001b[39m\u001b[38;5;124mcompression\u001b[39m\u001b[38;5;124m\"\u001b[39m: \u001b[38;5;28;01mNone\u001b[39;00m}\n\u001b[1;32m   1311\u001b[0m )\n\u001b[1;32m   1312\u001b[0m \u001b[38;5;28;01mif\u001b[39;00m \u001b[38;5;129;01mnot\u001b[39;00m \u001b[38;5;28misinstance\u001b[39m(path, ExcelWriter):\n\u001b[0;32m-> 1313\u001b[0m     \u001b[38;5;28mself\u001b[39m\u001b[38;5;241m.\u001b[39m_handles \u001b[38;5;241m=\u001b[39m get_handle(\n\u001b[1;32m   1314\u001b[0m         path, mode, storage_options\u001b[38;5;241m=\u001b[39mstorage_options, is_text\u001b[38;5;241m=\u001b[39m\u001b[38;5;28;01mFalse\u001b[39;00m\n\u001b[1;32m   1315\u001b[0m     )\n\u001b[1;32m   1316\u001b[0m \u001b[38;5;28mself\u001b[39m\u001b[38;5;241m.\u001b[39m_cur_sheet \u001b[38;5;241m=\u001b[39m \u001b[38;5;28;01mNone\u001b[39;00m\n\u001b[1;32m   1318\u001b[0m \u001b[38;5;28;01mif\u001b[39;00m date_format \u001b[38;5;129;01mis\u001b[39;00m \u001b[38;5;28;01mNone\u001b[39;00m:\n",
      "File \u001b[0;32m~/anaconda3/lib/python3.11/site-packages/pandas/io/common.py:865\u001b[0m, in \u001b[0;36mget_handle\u001b[0;34m(path_or_buf, mode, encoding, compression, memory_map, is_text, errors, storage_options)\u001b[0m\n\u001b[1;32m    856\u001b[0m         handle \u001b[38;5;241m=\u001b[39m \u001b[38;5;28mopen\u001b[39m(\n\u001b[1;32m    857\u001b[0m             handle,\n\u001b[1;32m    858\u001b[0m             ioargs\u001b[38;5;241m.\u001b[39mmode,\n\u001b[0;32m   (...)\u001b[0m\n\u001b[1;32m    861\u001b[0m             newline\u001b[38;5;241m=\u001b[39m\u001b[38;5;124m\"\u001b[39m\u001b[38;5;124m\"\u001b[39m,\n\u001b[1;32m    862\u001b[0m         )\n\u001b[1;32m    863\u001b[0m     \u001b[38;5;28;01melse\u001b[39;00m:\n\u001b[1;32m    864\u001b[0m         \u001b[38;5;66;03m# Binary mode\u001b[39;00m\n\u001b[0;32m--> 865\u001b[0m         handle \u001b[38;5;241m=\u001b[39m \u001b[38;5;28mopen\u001b[39m(handle, ioargs\u001b[38;5;241m.\u001b[39mmode)\n\u001b[1;32m    866\u001b[0m     handles\u001b[38;5;241m.\u001b[39mappend(handle)\n\u001b[1;32m    868\u001b[0m \u001b[38;5;66;03m# Convert BytesIO or file objects passed with an encoding\u001b[39;00m\n",
      "\u001b[0;31mTimeoutError\u001b[0m: [Errno 60] Operation timed out: '/Users/constancacachim/Library/CloudStorage/OneDrive-UniversidadedeLisboa/IST/GOLP/codigo/ficheiros/cassini_geral.xlsx'"
     ]
    }
   ],
   "source": [
    "path = Path(Path.cwd())\n",
    "\n",
    "xls = pd.read_excel('Hospital_da_Luz_Base_de_dados_Lenstar_Cassini.xls', sheet_name=None)\n",
    "cassini = xls['Cassini_full']\n",
    "lenstar = xls['Lenstar']\n",
    "\n",
    "#Tratamento de dados Cassini\n",
    "\"\"\" \n",
    "    Remover Quality Factor Posterior Value inferior a 80\n",
    "    Remover olhos repetidos (NHC e olho igual), mantendo o de maior QFPV\n",
    "    Remover Pseudophakic\n",
    "    Criar coluna com regra de acordo com axis\n",
    "\"\"\"\n",
    "\n",
    "filtered_cassini = cassini[cassini['Quality_Factor_Posterior_Value'] >= 80]\n",
    "filtered_cassini = filtered_cassini.sort_values(by=['Quality_Factor_Posterior_Value'], ascending=[True])\n",
    "filtered_cassini = filtered_cassini.drop_duplicates(subset=['NHC', 'C_Eye'], keep='last')\n",
    "filtered_cassini = filtered_cassini.sort_values(by=['id'], ascending=[True])\n",
    "filtered_cassini = filtered_cassini[filtered_cassini['C_Mode'] != 'Pseudophakic']\n",
    "\n",
    "def categorize_value(x):\n",
    "    if x <= 30 or x >= 150 :\n",
    "        return 'ATR'\n",
    "    elif x >= 60 and x <= 120:\n",
    "        return 'WTR'\n",
    "    else:\n",
    "        return 'OBL'\n",
    "    \n",
    "filtered_cassini['C_TCA_Axis_360'] = filtered_cassini['C_TCA_Axis']*2\n",
    "filtered_cassini['C_Ant_Axis_360'] = filtered_cassini['C_Ant_Axis']*2\n",
    "filtered_cassini['C_Post_Axis_360'] = filtered_cassini['C_Post_Axis']*2\n",
    "\n",
    "filtered_cassini['category_TCA'] = filtered_cassini['C_TCA_Axis'].apply(categorize_value)\n",
    "filtered_cassini['category_Ant'] = filtered_cassini['C_Ant_Axis'].apply(categorize_value)\n",
    "filtered_cassini['category_Post'] = filtered_cassini['C_Post_Axis'].apply(categorize_value)\n",
    "\n",
    "filtered_cassini['C_TCA_parte_real'] = converter(np.column_stack((filtered_cassini['C_TCA_Axis_360'], filtered_cassini['C_TCA_Ast'])))[:,0]\n",
    "filtered_cassini['C_TCA_parte_imaginaria'] = converter(np.column_stack((filtered_cassini['C_TCA_Axis_360'], filtered_cassini['C_TCA_Ast'])))[:,1]\n",
    "filtered_cassini['C_Ant_parte_real'] = converter(np.column_stack((filtered_cassini['C_Ant_Axis_360'], filtered_cassini['C_Ant_Ast'])))[:,0]\n",
    "filtered_cassini['C_Ant_parte_imaginaria'] = converter(np.column_stack((filtered_cassini['C_Ant_Axis_360'], filtered_cassini['C_Ant_Ast'])))[:,1]\n",
    "filtered_cassini['C_Post_parte_real'] = converter(np.column_stack((filtered_cassini['C_Post_Axis_360'], filtered_cassini['C_Post_Ast'])))[:,0]\n",
    "filtered_cassini['C_Post_parte_imaginaria'] = converter(np.column_stack((filtered_cassini['C_Post_Axis_360'], filtered_cassini['C_Post_Ast'])))[:,1]\n",
    "\n",
    "geral_df = filtered_cassini\n",
    "geral_df.to_excel( path / 'ficheiros' / 'cassini_geral.xlsx')\n",
    "\n",
    "atr_df = geral_df[geral_df['category_Ant'] == 'ATR']\n",
    "atr_df.to_excel( path / 'ficheiros' / 'cassini_atr.xlsx')\n",
    "\n",
    "wtr_df = geral_df[geral_df['category_Ant'] == 'WTR']\n",
    "wtr_df.to_excel( path / 'ficheiros' / 'cassini_wtr.xlsx')\n",
    "\n",
    "obl_df = geral_df[geral_df['category_Ant'] == 'OBL']\n",
    "obl_df.to_excel( path / 'ficheiros' / 'cassini_obl.xlsx')"
   ]
  },
  {
   "cell_type": "code",
   "execution_count": null,
   "metadata": {},
   "outputs": [],
   "source": [
    "# #Tratamento de dados Lenstar\n",
    "\n",
    "# \"\"\" \n",
    "#     Remover olhos repetidos (NHC e olho igual), escolha arbitrária\n",
    "#     Remover Pseudophakic e Aphakic\n",
    "# \"\"\"\n",
    "\n",
    "# filtered_lenstar = lenstar[lenstar['L_Mode'] != 'Pseudophakic']\n",
    "# filtered_lenstar = filtered_lenstar[filtered_lenstar['L_Mode'] != 'Aphakic']\n",
    "# filtered_lenstar = filtered_lenstar.drop_duplicates(subset=['NHC', 'L_Eye'], keep='last')\n",
    "\n",
    "# filtered_lenstar.to_excel('/Users/constancacachim/Desktop/golp_dados/ficheiros/filtered_lenstar.xlsx', index=False, sheet_name='lenstar')\n",
    "\n",
    "# \"\"\"\n",
    "#     Merge cassini e lenstar com base em NHC\n",
    "# \"\"\"\n",
    "# cassini_lenstar = pd.merge(filtered_lenstar,filtered_cassini, on='NHC', how='outer')\n",
    "# cassini_lenstar.to_excel('/Users/constancacachim/Desktop/golp_dados/ficheiros/filtered_cassini_lenstar.xlsx', index=False, sheet_name='merge')"
   ]
  }
 ],
 "metadata": {
  "kernelspec": {
   "display_name": "Python 3",
   "language": "python",
   "name": "python3"
  },
  "language_info": {
   "codemirror_mode": {
    "name": "ipython",
    "version": 3
   },
   "file_extension": ".py",
   "mimetype": "text/x-python",
   "name": "python",
   "nbconvert_exporter": "python",
   "pygments_lexer": "ipython3",
   "version": "3.11.4"
  }
 },
 "nbformat": 4,
 "nbformat_minor": 2
}
